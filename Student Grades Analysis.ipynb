{
 "cells": [
  {
   "cell_type": "code",
   "execution_count": 40,
   "metadata": {},
   "outputs": [
    {
     "name": "stdout",
     "output_type": "stream",
     "text": [
      "['school', 'sex', 'age', 'address', 'famsize', 'Pstatus', 'Medu', 'Fedu', 'Mjob', 'Fjob', 'reason', 'guardian', 'traveltime', 'studytime', 'failures', 'schoolsup', 'famsup', 'paid', 'activities', 'nursery', 'higher', 'internet', 'romantic', 'famrel', 'freetime', 'goout', 'Dalc', 'Walc', 'health', 'absences', 'constant']\n",
      "     variables  estimated_Coefficients  absolutevalues\n",
      "15   schoolsup               -0.780319        0.780319\n",
      "20      higher                0.598286        0.598286\n",
      "17        paid               -0.475603        0.475603\n",
      "14    failures               -0.443811        0.443811\n",
      "0       school                0.308725        0.308725\n",
      "29    absences               -0.288915        0.288915\n",
      "21    internet                0.167431        0.167431\n",
      "18  activities                0.145621        0.145621\n",
      "6         Medu                0.141505        0.141505\n",
      "13   studytime                0.139826        0.139826\n",
      "1          sex                0.125000        0.125000\n",
      "16      famsup               -0.111561        0.111561\n",
      "25       goout               -0.108514        0.108514\n",
      "9         Fjob                0.097849        0.097849\n",
      "3      address                0.093818        0.093818\n",
      "8         Mjob               -0.080449        0.080449\n",
      "4      famsize               -0.074752        0.074752\n",
      "22    romantic               -0.072058        0.072058\n",
      "28      health               -0.064939        0.064939\n",
      "23      famrel                0.063538        0.063538\n",
      "2          age                0.055676        0.055676\n",
      "7         Fedu                0.044968        0.044968\n",
      "10      reason                0.042261        0.042261\n",
      "27        Walc               -0.031254        0.031254\n",
      "26        Dalc               -0.029495        0.029495\n",
      "19     nursery               -0.021296        0.021296\n",
      "24    freetime               -0.007469        0.007469\n",
      "11    guardian               -0.004630        0.004630\n",
      "5      Pstatus                0.002599        0.002599\n",
      "12  traveltime                0.001601        0.001601\n",
      "30    constant                0.000000        0.000000\n"
     ]
    }
   ],
   "source": [
    "import pandas as pd\n",
    "from pandas import DataFrame as df\n",
    "import numpy as np\n",
    "import matplotlib.pyplot as plt\n",
    "\n",
    "fileLoc = \"/home/vamsi/Downloads/\"  # The location where all the data is stored\n",
    "data1 = pd.read_csv(fileLoc+'student-mat.csv')     # First data file\n",
    "data2 = pd.read_csv(fileLoc+'student-por.csv')     # Second data file\n",
    "\n",
    "data1.replace([np.inf, -np.inf], np.nan)\n",
    "data2.replace([np.inf, -np.inf], np.nan)\n",
    "data1.dropna()\n",
    "data2.dropna()\n",
    "\n",
    "# Filtering out few rows in dataframe\n",
    "data1 =  data1.loc[~(data1['G3']==0)]\n",
    "data2 =  data2.loc[~(data2['G3']==0)]\n",
    "\n",
    "\n",
    "data1.dropna()\n",
    "data2.dropna()\n",
    "\n",
    "data = pd.concat([data1,data2])  # forming one data table\n",
    "\n",
    "\n",
    "\n",
    "#check if need filling data\n",
    "\n",
    "\n",
    "\n",
    "mod_data1 = data \n",
    "\n",
    "binaryYesNo = {'yes': 1, 'no': 0}\n",
    "school_map  = {'MS': 1, 'GP': 2}\n",
    "sex_map     = {'M': 1, 'F': 2}\n",
    "address_map = {'R':1, 'U':2}\n",
    "famsize_map = {'LE3':1, 'GT3':2}\n",
    "pstatus_map = {'A':1, 'T':2}\n",
    "mjob_map    = {'services' : 1, 'health' : 2, 'other' : 3, 'at_home' : 4, 'teacher' : 5}\n",
    "fjob_map    = {'services' : 1, 'health' : 2,  'other' : 3,  'at_home' : 4, 'teacher' : 5}\n",
    "reason_map   = {'course':1, 'other':2, 'reputation':3, 'home':4}\n",
    "guardian_map = {'other':0, 'father':1, 'mother':1}\n",
    "absences_map = {}\n",
    "grades_map = {}\n",
    "\n",
    "#absenties mapping\n",
    "\n",
    "# mapping the no.  of absences into 5 categories of <=5,10, 20, 40, >40\n",
    "\n",
    "for i in xrange((pd.DataFrame.max(data1))['absences']+1):\n",
    "    if i<=5:\n",
    "        absences_map[i] = 0\n",
    "    elif i<=10:\n",
    "        absences_map[i] = 1\n",
    "    elif i<=20:\n",
    "        absences_map[i] = 2\n",
    "    elif i<=40:\n",
    "        absences_map[i] = 3\n",
    "    else:\n",
    "        absences_map[i] = 4\n",
    "        \n",
    "#grade mapping\n",
    "        \n",
    "# max grade is 20\n",
    "\n",
    "maxGrade = 20\n",
    "\n",
    "for i in xrange(maxGrade+1):\n",
    "    if i <= 5:\n",
    "        grades_map[i] = 1\n",
    "    elif i <= 9:\n",
    "        grades_map[i] = 2\n",
    "    elif i <= 11:\n",
    "        grades_map[i] = 3\n",
    "    elif i<= 13:\n",
    "        grades_map[i] = 4\n",
    "    elif i<= 15:\n",
    "        grades_map[i] = 5\n",
    "    else:\n",
    "        grades_map[i] = 6\n",
    "        \n",
    "\n",
    "        \n",
    "#grades_map = {i: if i<=5: 0 elif i <= 9: 1 elif i <= 11: 2 elif i <= 13: 3 elif i <= 15: 4 else: 5 for i in xrange(maxGrade)}\n",
    "\n",
    "mod_data1.schoolsup  = mod_data1.schoolsup.map(binaryYesNo)\n",
    "mod_data1.famsup     = mod_data1.famsup.map(binaryYesNo)\n",
    "mod_data1.paid       = mod_data1.paid.map(binaryYesNo)\n",
    "mod_data1.activities = mod_data1.activities.map(binaryYesNo)\n",
    "mod_data1.nursery    = mod_data1.nursery.map(binaryYesNo)\n",
    "mod_data1.higher     = mod_data1.higher.map(binaryYesNo)\n",
    "mod_data1.internet   = mod_data1.internet.map(binaryYesNo)\n",
    "mod_data1.romantic   = mod_data1.romantic.map(binaryYesNo)\n",
    "mod_data1.school   = mod_data1.school.map(school_map)\n",
    "mod_data1.sex      = mod_data1.sex.map(sex_map)\n",
    "mod_data1.address  = mod_data1.address.map(address_map)\n",
    "mod_data1.famsize  = mod_data1.famsize.map(famsize_map)\n",
    "mod_data1.Pstatus  = mod_data1.Pstatus.map(pstatus_map)\n",
    "mod_data1.Mjob     = mod_data1.Mjob.map(mjob_map)\n",
    "mod_data1.Fjob     = mod_data1.Fjob.map(fjob_map)\n",
    "mod_data1.reason   = mod_data1.reason.map(reason_map)\n",
    "mod_data1.guardian = mod_data1.guardian.map(guardian_map)\n",
    "mod_data1.absences = mod_data1.absences.map(absences_map)\n",
    "mod_data1.G1       = mod_data1.G1.map(grades_map)\n",
    "mod_data1.G2       = mod_data1.G2.map(grades_map)\n",
    "mod_data1.G3       = mod_data1.G3.map(grades_map)\n",
    "\n",
    "#mod_data1.head()\n",
    "\n",
    "\n",
    "from sklearn.linear_model import LinearRegression\n",
    "\n",
    "\n",
    "## Grades \n",
    "lm2 = LinearRegression()\n",
    "X1 = mod_data1.drop('G1',axis =1)\n",
    "X2 = X1.drop('G2',axis =1)\n",
    "X = X2.drop('G3',axis =1)\n",
    "X = X.assign(constant= 1)\n",
    "lm2.fit(X,mod_data1.G3)\n",
    "variables2 = pd.DataFrame(zip(X.columns, lm2.coef_),columns = ['variables', 'estimated_Coefficients'])\n",
    "variables2['absolutevalues'] = abs(variables2['estimated_Coefficients'])\n",
    "mod_var2 = variables2.sort_values(by = ['absolutevalues'],ascending = False)\n",
    "print list(X)\n",
    "\n",
    "print mod_var2"
   ]
  },
  {
   "cell_type": "markdown",
   "metadata": {},
   "source": [
    "### Impact of Higher Education"
   ]
  },
  {
   "cell_type": "code",
   "execution_count": 31,
   "metadata": {
    "scrolled": true
   },
   "outputs": [
    {
     "name": "stdout",
     "output_type": "stream",
     "text": [
      "1\n",
      "<type 'float'>\n",
      "<type 'float'>\n"
     ]
    },
    {
     "data": {
      "image/png": "[encoded data removed]",
      "text/plain": [
       "<matplotlib.figure.Figure at 0x7fe4389e04d0>"
      ]
     },
     "metadata": {},
     "output_type": "display_data"
    }
   ],
   "source": [
    "### Plotting linear regressor for top vairables like sex, go-out \n",
    "# select the variables and plot\n",
    "import random\n",
    "\n",
    "higher = mod_data1['higher'].tolist()\n",
    "grades =    mod_data1['G3'].tolist()\n",
    "#print type(grades[0])\n",
    "print higher[0]\n",
    "for i in range(len(higher)):\n",
    "        higher[i] = random.uniform((higher[i]-0.3),(higher[i]+0.3))\n",
    "        grades[i] = random.uniform((grades[i]-0.3),(grades[i]+0.3))\n",
    "print(type(higher[0]))        \n",
    "\n",
    "print type(grades[0])\n",
    "plt.scatter(higher,grades,s=2,alpha=1)\n",
    "#plt.scatter(dataWalcF,dataDalcF,c='red',s=5,alpha=0.25)\n",
    "#plt.scatter(mod_data1.higher,mod_data1.G3)\n",
    "plt.xlabel('Interested in higher education')\n",
    "plt.ylabel('Grades')\n",
    "plt.show()"
   ]
  },
  {
   "cell_type": "code",
   "execution_count": 41,
   "metadata": {},
   "outputs": [
    {
     "data": {
      "image/png": "[encoded data removed]",
      "text/plain": [
       "<matplotlib.figure.Figure at 0x7fe40d752c10>"
      ]
     },
     "metadata": {},
     "output_type": "display_data"
    }
   ],
   "source": [
    "meducation = mod_data1['Medu'].tolist()\n",
    "grades =    mod_data1['G3'].tolist()\n",
    "#print type(grades[0])\n",
    "for i in range(len(higher)):\n",
    "        meducation[i] = random.uniform((meducation[i]-0.3),(meducation[i]+0.3))\n",
    "        grades[i] = random.uniform((grades[i]-0.3),(grades[i]+0.3))\n",
    "\n",
    "plt.scatter(meducation,grades,s=2,alpha=1)\n",
    "#plt.scatter(dataWalcF,dataDalcF,c='red',s=5,alpha=0.25)\n",
    "#plt.scatter(mod_data1.higher,mod_data1.G3)\n",
    "plt.xlabel('Mothers education')\n",
    "plt.ylabel('Grades')\n",
    "plt.show()"
   ]
  },
  {
   "cell_type": "code",
   "execution_count": null,
   "metadata": {},
   "outputs": [],
   "source": []
  }
 ],
 "metadata": {
  "kernelspec": {
   "display_name": "Python 2",
   "language": "python",
   "name": "python2"
  },
  "language_info": {
   "codemirror_mode": {
    "name": "ipython",
    "version": 2
   },
   "file_extension": ".py",
   "mimetype": "text/x-python",
   "name": "python",
   "nbconvert_exporter": "python",
   "pygments_lexer": "ipython2",
   "version": "2.7.14"
  }
 },
 "nbformat": 4,
 "nbformat_minor": 2
}
